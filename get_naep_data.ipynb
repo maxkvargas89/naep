{
  "nbformat": 4,
  "nbformat_minor": 0,
  "metadata": {
    "colab": {
      "cell_execution_strategy": "setup",
      "provenance": [],
      "name": "get_naep_data"
    },
    "kernelspec": {
      "name": "python3",
      "display_name": "Python 3"
    },
    "language_info": {
      "name": "python"
    }
  },
  "cells": [
    {
      "cell_type": "markdown",
      "source": [
        "imports"
      ],
      "metadata": {
        "id": "1Rn2ohA64twe"
      }
    },
    {
      "cell_type": "code",
      "source": [
        "import requests\n",
        "import pandas as pd\n",
        "from itertools import product\n",
        "import time\n",
        "from google.cloud import bigquery\n",
        "from google.oauth2 import service_account"
      ],
      "metadata": {
        "id": "dQmPJDKi4qGf",
        "executionInfo": {
          "status": "ok",
          "timestamp": 1746549916374,
          "user_tz": 420,
          "elapsed": 4092,
          "user": {
            "displayName": "",
            "userId": ""
          }
        }
      },
      "execution_count": 1,
      "outputs": []
    },
    {
      "cell_type": "markdown",
      "source": [
        "upload json key"
      ],
      "metadata": {
        "id": "LiLUGsG48Kd4"
      }
    },
    {
      "cell_type": "code",
      "source": [
        "from google.colab import files\n",
        "uploaded = files.upload()"
      ],
      "metadata": {
        "colab": {
          "base_uri": "https://localhost:8080/",
          "height": 73
        },
        "id": "GT3wRo5d75FM",
        "executionInfo": {
          "status": "ok",
          "timestamp": 1746549941087,
          "user_tz": 420,
          "elapsed": 20659,
          "user": {
            "displayName": "",
            "userId": ""
          }
        },
        "outputId": "741c782a-3986-4b2b-814b-d2476a71c23c"
      },
      "execution_count": 2,
      "outputs": [
        {
          "output_type": "display_data",
          "data": {
            "text/plain": [
              "<IPython.core.display.HTML object>"
            ],
            "text/html": [
              "\n",
              "     <input type=\"file\" id=\"files-8d3840ad-6760-455f-a788-00deb68233f3\" name=\"files[]\" multiple disabled\n",
              "        style=\"border:none\" />\n",
              "     <output id=\"result-8d3840ad-6760-455f-a788-00deb68233f3\">\n",
              "      Upload widget is only available when the cell has been executed in the\n",
              "      current browser session. Please rerun this cell to enable.\n",
              "      </output>\n",
              "      <script>// Copyright 2017 Google LLC\n",
              "//\n",
              "// Licensed under the Apache License, Version 2.0 (the \"License\");\n",
              "// you may not use this file except in compliance with the License.\n",
              "// You may obtain a copy of the License at\n",
              "//\n",
              "//      http://www.apache.org/licenses/LICENSE-2.0\n",
              "//\n",
              "// Unless required by applicable law or agreed to in writing, software\n",
              "// distributed under the License is distributed on an \"AS IS\" BASIS,\n",
              "// WITHOUT WARRANTIES OR CONDITIONS OF ANY KIND, either express or implied.\n",
              "// See the License for the specific language governing permissions and\n",
              "// limitations under the License.\n",
              "\n",
              "/**\n",
              " * @fileoverview Helpers for google.colab Python module.\n",
              " */\n",
              "(function(scope) {\n",
              "function span(text, styleAttributes = {}) {\n",
              "  const element = document.createElement('span');\n",
              "  element.textContent = text;\n",
              "  for (const key of Object.keys(styleAttributes)) {\n",
              "    element.style[key] = styleAttributes[key];\n",
              "  }\n",
              "  return element;\n",
              "}\n",
              "\n",
              "// Max number of bytes which will be uploaded at a time.\n",
              "const MAX_PAYLOAD_SIZE = 100 * 1024;\n",
              "\n",
              "function _uploadFiles(inputId, outputId) {\n",
              "  const steps = uploadFilesStep(inputId, outputId);\n",
              "  const outputElement = document.getElementById(outputId);\n",
              "  // Cache steps on the outputElement to make it available for the next call\n",
              "  // to uploadFilesContinue from Python.\n",
              "  outputElement.steps = steps;\n",
              "\n",
              "  return _uploadFilesContinue(outputId);\n",
              "}\n",
              "\n",
              "// This is roughly an async generator (not supported in the browser yet),\n",
              "// where there are multiple asynchronous steps and the Python side is going\n",
              "// to poll for completion of each step.\n",
              "// This uses a Promise to block the python side on completion of each step,\n",
              "// then passes the result of the previous step as the input to the next step.\n",
              "function _uploadFilesContinue(outputId) {\n",
              "  const outputElement = document.getElementById(outputId);\n",
              "  const steps = outputElement.steps;\n",
              "\n",
              "  const next = steps.next(outputElement.lastPromiseValue);\n",
              "  return Promise.resolve(next.value.promise).then((value) => {\n",
              "    // Cache the last promise value to make it available to the next\n",
              "    // step of the generator.\n",
              "    outputElement.lastPromiseValue = value;\n",
              "    return next.value.response;\n",
              "  });\n",
              "}\n",
              "\n",
              "/**\n",
              " * Generator function which is called between each async step of the upload\n",
              " * process.\n",
              " * @param {string} inputId Element ID of the input file picker element.\n",
              " * @param {string} outputId Element ID of the output display.\n",
              " * @return {!Iterable<!Object>} Iterable of next steps.\n",
              " */\n",
              "function* uploadFilesStep(inputId, outputId) {\n",
              "  const inputElement = document.getElementById(inputId);\n",
              "  inputElement.disabled = false;\n",
              "\n",
              "  const outputElement = document.getElementById(outputId);\n",
              "  outputElement.innerHTML = '';\n",
              "\n",
              "  const pickedPromise = new Promise((resolve) => {\n",
              "    inputElement.addEventListener('change', (e) => {\n",
              "      resolve(e.target.files);\n",
              "    });\n",
              "  });\n",
              "\n",
              "  const cancel = document.createElement('button');\n",
              "  inputElement.parentElement.appendChild(cancel);\n",
              "  cancel.textContent = 'Cancel upload';\n",
              "  const cancelPromise = new Promise((resolve) => {\n",
              "    cancel.onclick = () => {\n",
              "      resolve(null);\n",
              "    };\n",
              "  });\n",
              "\n",
              "  // Wait for the user to pick the files.\n",
              "  const files = yield {\n",
              "    promise: Promise.race([pickedPromise, cancelPromise]),\n",
              "    response: {\n",
              "      action: 'starting',\n",
              "    }\n",
              "  };\n",
              "\n",
              "  cancel.remove();\n",
              "\n",
              "  // Disable the input element since further picks are not allowed.\n",
              "  inputElement.disabled = true;\n",
              "\n",
              "  if (!files) {\n",
              "    return {\n",
              "      response: {\n",
              "        action: 'complete',\n",
              "      }\n",
              "    };\n",
              "  }\n",
              "\n",
              "  for (const file of files) {\n",
              "    const li = document.createElement('li');\n",
              "    li.append(span(file.name, {fontWeight: 'bold'}));\n",
              "    li.append(span(\n",
              "        `(${file.type || 'n/a'}) - ${file.size} bytes, ` +\n",
              "        `last modified: ${\n",
              "            file.lastModifiedDate ? file.lastModifiedDate.toLocaleDateString() :\n",
              "                                    'n/a'} - `));\n",
              "    const percent = span('0% done');\n",
              "    li.appendChild(percent);\n",
              "\n",
              "    outputElement.appendChild(li);\n",
              "\n",
              "    const fileDataPromise = new Promise((resolve) => {\n",
              "      const reader = new FileReader();\n",
              "      reader.onload = (e) => {\n",
              "        resolve(e.target.result);\n",
              "      };\n",
              "      reader.readAsArrayBuffer(file);\n",
              "    });\n",
              "    // Wait for the data to be ready.\n",
              "    let fileData = yield {\n",
              "      promise: fileDataPromise,\n",
              "      response: {\n",
              "        action: 'continue',\n",
              "      }\n",
              "    };\n",
              "\n",
              "    // Use a chunked sending to avoid message size limits. See b/62115660.\n",
              "    let position = 0;\n",
              "    do {\n",
              "      const length = Math.min(fileData.byteLength - position, MAX_PAYLOAD_SIZE);\n",
              "      const chunk = new Uint8Array(fileData, position, length);\n",
              "      position += length;\n",
              "\n",
              "      const base64 = btoa(String.fromCharCode.apply(null, chunk));\n",
              "      yield {\n",
              "        response: {\n",
              "          action: 'append',\n",
              "          file: file.name,\n",
              "          data: base64,\n",
              "        },\n",
              "      };\n",
              "\n",
              "      let percentDone = fileData.byteLength === 0 ?\n",
              "          100 :\n",
              "          Math.round((position / fileData.byteLength) * 100);\n",
              "      percent.textContent = `${percentDone}% done`;\n",
              "\n",
              "    } while (position < fileData.byteLength);\n",
              "  }\n",
              "\n",
              "  // All done.\n",
              "  yield {\n",
              "    response: {\n",
              "      action: 'complete',\n",
              "    }\n",
              "  };\n",
              "}\n",
              "\n",
              "scope.google = scope.google || {};\n",
              "scope.google.colab = scope.google.colab || {};\n",
              "scope.google.colab._files = {\n",
              "  _uploadFiles,\n",
              "  _uploadFilesContinue,\n",
              "};\n",
              "})(self);\n",
              "</script> "
            ]
          },
          "metadata": {}
        },
        {
          "output_type": "stream",
          "name": "stdout",
          "text": [
            "Saving xq-data-bigquery-8d4927262daf.json to xq-data-bigquery-8d4927262daf.json\n"
          ]
        }
      ]
    },
    {
      "cell_type": "markdown",
      "source": [
        "set destination"
      ],
      "metadata": {
        "id": "StGhBUjp6T52"
      }
    },
    {
      "cell_type": "code",
      "source": [
        "key_path = \"xq-data-bigquery-8d4927262daf.json\"\n",
        "credentials = service_account.Credentials.from_service_account_file(key_path)\n",
        "project_id = \"xq-data-bigquery\"\n",
        "\n",
        "dataset_id = \"staging_naep\"\n",
        "table_id = \"grade_12_mathematics\"\n",
        "full_table_id = f\"{project_id}.{dataset_id}.{table_id}\""
      ],
      "metadata": {
        "id": "XwzFLfpx6VYp",
        "executionInfo": {
          "status": "ok",
          "timestamp": 1746549943641,
          "user_tz": 420,
          "elapsed": 2,
          "user": {
            "displayName": "",
            "userId": ""
          }
        }
      },
      "execution_count": 3,
      "outputs": []
    },
    {
      "cell_type": "markdown",
      "source": [
        "Base URL and shared parameters"
      ],
      "metadata": {
        "id": "77uV9wa94zjI"
      }
    },
    {
      "cell_type": "code",
      "source": [
        "url = \"https://www.nationsreportcard.gov/DataService/GetAdhocData.aspx\"\n",
        "shared_params = {\n",
        "    \"type\": \"data\",\n",
        "    \"subject\": \"mathematics\",\n",
        "    \"grade\": \"12\",\n",
        "    \"year\": \"2019\",\n",
        "    \"jurisdiction\": \"NP\"\n",
        "}"
      ],
      "metadata": {
        "id": "-MqHWoW542mf",
        "executionInfo": {
          "status": "ok",
          "timestamp": 1746549947756,
          "user_tz": 420,
          "elapsed": 237,
          "user": {
            "displayName": "",
            "userId": ""
          }
        }
      },
      "execution_count": 4,
      "outputs": []
    },
    {
      "cell_type": "markdown",
      "source": [
        "Parameter lists"
      ],
      "metadata": {
        "id": "BmV4RRIuAraS"
      }
    },
    {
      "cell_type": "code",
      "source": [
        "subscales = [\"MWPCM\", \"MWPS1\", \"MWPS2\", \"MWPS3\", \"MWPS4\"]\n",
        "stattype_list = [\"MN:MN\", \"ALD:BA\", \"ALD:PR\", \"ALD:AD\"]\n",
        "variables = [\"B018101\", \"B035202\", \"C102803\", \"C102806\", \"C102807\", \"C102809\", \"M831501\", \"M831504\", \"M831505\", \"M831506\", \"M831901\", \"M831902\", \"M831903\", \"M831905\", \"M831906\", \"M834102\", \"T044401\", \"T077310\", \"T112501\", \"T112502\", \"T126026\", \"T133801\", \"T136902\", \"T136903\", \"T136904\", \"T136905\", \"TNSTUDM\", \"TTIME4M\"]"
      ],
      "metadata": {
        "id": "l6eoOcN1Atps",
        "executionInfo": {
          "status": "ok",
          "timestamp": 1746549950453,
          "user_tz": 420,
          "elapsed": 213,
          "user": {
            "displayName": "",
            "userId": ""
          }
        }
      },
      "execution_count": 5,
      "outputs": []
    },
    {
      "cell_type": "markdown",
      "source": [
        "Collect data"
      ],
      "metadata": {
        "id": "NcthOC_Sc-Zu"
      }
    },
    {
      "cell_type": "code",
      "source": [
        "all_results = []\n",
        "\n",
        "for subscale, stattype, variable in product(subscales, stattype_list, variables):\n",
        "    params = shared_params.copy()\n",
        "    params.update({\n",
        "        \"subscale\": subscale,\n",
        "        \"stattype\": stattype,\n",
        "        \"variable\": variable\n",
        "    })\n",
        "\n",
        "    try:\n",
        "        response = requests.get(url, params=params)\n",
        "        response.raise_for_status()\n",
        "        result_json = response.json()\n",
        "\n",
        "        # Tag metadata in each result\n",
        "        for record in result_json.get(\"result\", []):\n",
        "            record.update({\n",
        "                \"subscale_requested\": subscale,\n",
        "                \"stattype_requested\": stattype,\n",
        "                \"variable_requested\": variable\n",
        "            })\n",
        "            all_results.append(record)\n",
        "\n",
        "        print(f\"✅ Success: {subscale} | {stattype} | {variable}\")\n",
        "        time.sleep(0.5)  # Optional: be polite to the server\n",
        "\n",
        "    except Exception as e:\n",
        "        print(f\"❌ Failed: {subscale} | {stattype} | {variable} | Error: {str(e)}\")"
      ],
      "metadata": {
        "id": "CsLh9aDHdARw"
      },
      "execution_count": null,
      "outputs": []
    },
    {
      "cell_type": "markdown",
      "source": [
        "Convert to DataFrame"
      ],
      "metadata": {
        "id": "S2cG2KqCdPYM"
      }
    },
    {
      "cell_type": "code",
      "source": [
        "df = pd.DataFrame(all_results)"
      ],
      "metadata": {
        "id": "jSTuqhFKdQtS"
      },
      "execution_count": null,
      "outputs": []
    },
    {
      "cell_type": "markdown",
      "source": [
        "Upload job"
      ],
      "metadata": {
        "id": "kg_mJ1zs6nWY"
      }
    },
    {
      "cell_type": "code",
      "source": [
        "client = bigquery.Client(credentials=credentials, project=credentials.project_id)\n",
        "\n",
        "job_config = bigquery.LoadJobConfig(\n",
        "    write_disposition=\"WRITE_APPEND\",\n",
        "    autodetect=True\n",
        ")\n",
        "\n",
        "job = client.load_table_from_dataframe(df, full_table_id, job_config=job_config)\n",
        "\n",
        "job.result()"
      ],
      "metadata": {
        "colab": {
          "base_uri": "https://localhost:8080/"
        },
        "id": "ENqXLXph6out",
        "executionInfo": {
          "status": "ok",
          "timestamp": 1746225909956,
          "user_tz": 420,
          "elapsed": 4296,
          "user": {
            "displayName": "",
            "userId": ""
          }
        },
        "outputId": "47d440fb-0b81-4524-f106-6ddf8c777805"
      },
      "execution_count": null,
      "outputs": [
        {
          "output_type": "execute_result",
          "data": {
            "text/plain": [
              "LoadJob<project=xq-data-bigquery, location=US, id=fae5c51f-2d38-41d7-9aeb-4cccd03ef4a6>"
            ]
          },
          "metadata": {},
          "execution_count": 47
        }
      ]
    }
  ]
}